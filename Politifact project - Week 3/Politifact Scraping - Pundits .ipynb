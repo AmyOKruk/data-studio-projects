{
 "cells": [
  {
   "cell_type": "code",
   "execution_count": 2,
   "metadata": {},
   "outputs": [],
   "source": [
    "import pandas as pd\n",
    "from bs4 import BeautifulSoup\n",
    "import requests\n",
    "from time import sleep"
   ]
  },
  {
   "cell_type": "code",
   "execution_count": 20,
   "metadata": {},
   "outputs": [
    {
     "name": "stdout",
     "output_type": "stream",
     "text": [
      "Scraping https://www.politifact.com/punditfact/statements/?page=1\n",
      "Scraping https://www.politifact.com/punditfact/statements/?page=2\n",
      "Scraping https://www.politifact.com/punditfact/statements/?page=3\n",
      "Scraping https://www.politifact.com/punditfact/statements/?page=4\n",
      "Scraping https://www.politifact.com/punditfact/statements/?page=5\n",
      "Scraping https://www.politifact.com/punditfact/statements/?page=6\n",
      "Scraping https://www.politifact.com/punditfact/statements/?page=7\n",
      "Scraping https://www.politifact.com/punditfact/statements/?page=8\n",
      "Scraping https://www.politifact.com/punditfact/statements/?page=9\n",
      "Scraping https://www.politifact.com/punditfact/statements/?page=10\n",
      "Scraping https://www.politifact.com/punditfact/statements/?page=11\n",
      "Scraping https://www.politifact.com/punditfact/statements/?page=12\n",
      "Scraping https://www.politifact.com/punditfact/statements/?page=13\n",
      "Scraping https://www.politifact.com/punditfact/statements/?page=14\n",
      "Scraping https://www.politifact.com/punditfact/statements/?page=15\n",
      "Scraping https://www.politifact.com/punditfact/statements/?page=16\n",
      "Scraping https://www.politifact.com/punditfact/statements/?page=17\n",
      "Scraping https://www.politifact.com/punditfact/statements/?page=18\n",
      "Scraping https://www.politifact.com/punditfact/statements/?page=19\n",
      "Scraping https://www.politifact.com/punditfact/statements/?page=20\n",
      "Scraping https://www.politifact.com/punditfact/statements/?page=21\n",
      "Scraping https://www.politifact.com/punditfact/statements/?page=22\n",
      "Scraping https://www.politifact.com/punditfact/statements/?page=23\n",
      "Scraping https://www.politifact.com/punditfact/statements/?page=24\n",
      "Scraping https://www.politifact.com/punditfact/statements/?page=25\n",
      "Scraping https://www.politifact.com/punditfact/statements/?page=26\n",
      "Scraping https://www.politifact.com/punditfact/statements/?page=27\n",
      "Scraping https://www.politifact.com/punditfact/statements/?page=28\n",
      "Scraping https://www.politifact.com/punditfact/statements/?page=29\n",
      "Scraping https://www.politifact.com/punditfact/statements/?page=30\n",
      "Scraping https://www.politifact.com/punditfact/statements/?page=31\n",
      "Scraping https://www.politifact.com/punditfact/statements/?page=32\n",
      "Scraping https://www.politifact.com/punditfact/statements/?page=33\n",
      "Scraping https://www.politifact.com/punditfact/statements/?page=34\n",
      "Scraping https://www.politifact.com/punditfact/statements/?page=35\n",
      "Scraping https://www.politifact.com/punditfact/statements/?page=36\n",
      "Scraping https://www.politifact.com/punditfact/statements/?page=37\n",
      "Scraping https://www.politifact.com/punditfact/statements/?page=38\n",
      "Scraping https://www.politifact.com/punditfact/statements/?page=39\n",
      "Scraping https://www.politifact.com/punditfact/statements/?page=40\n",
      "Scraping https://www.politifact.com/punditfact/statements/?page=41\n",
      "Scraping https://www.politifact.com/punditfact/statements/?page=42\n",
      "Scraping https://www.politifact.com/punditfact/statements/?page=43\n",
      "Scraping https://www.politifact.com/punditfact/statements/?page=44\n",
      "Scraping https://www.politifact.com/punditfact/statements/?page=45\n",
      "Scraping https://www.politifact.com/punditfact/statements/?page=46\n",
      "Scraping https://www.politifact.com/punditfact/statements/?page=47\n",
      "Scraping https://www.politifact.com/punditfact/statements/?page=48\n",
      "Scraping https://www.politifact.com/punditfact/statements/?page=49\n",
      "Scraping https://www.politifact.com/punditfact/statements/?page=50\n",
      "Scraping https://www.politifact.com/punditfact/statements/?page=51\n",
      "Scraping https://www.politifact.com/punditfact/statements/?page=52\n",
      "Scraping https://www.politifact.com/punditfact/statements/?page=53\n",
      "Scraping https://www.politifact.com/punditfact/statements/?page=54\n",
      "Scraping https://www.politifact.com/punditfact/statements/?page=55\n",
      "Scraping https://www.politifact.com/punditfact/statements/?page=56\n",
      "Scraping https://www.politifact.com/punditfact/statements/?page=57\n",
      "Scraping https://www.politifact.com/punditfact/statements/?page=58\n",
      "Scraping https://www.politifact.com/punditfact/statements/?page=59\n",
      "Scraping https://www.politifact.com/punditfact/statements/?page=60\n"
     ]
    }
   ],
   "source": [
    "pages = []\n",
    "for number in range(1, 61):\n",
    "    URL = f\"https://www.politifact.com/punditfact/statements/?page={number}\" \n",
    "    print(\"Scraping\", URL)\n",
    "    response = requests.get(URL) \n",
    "    soup = BeautifulSoup(response.content) \n",
    "    rows = soup.find_all('div', class_='scoretable__item')\n",
    "    for row in rows:\n",
    "        row_dict = {}\n",
    "        row_dict['Score'] = (row.find('div', class_=\"meter\").a.img.get('alt'))\n",
    "        row_dict['Date'] = (row.find('span', class_=\"article__meta\").text)\n",
    "        row_dict['In reality'] = (row.find('div', class_=\"meter\").find('p', class_=\"quote\").text)\n",
    "        row_dict['Source'] = (row.find('div', class_=\"statement__source\").text.strip())\n",
    "        row_dict['Statement'] = (row.find('p', class_=\"statement__text\").text.strip())\n",
    "        row_dict['Link'] = (row.find('p', class_=\"statement__text\").a.get('href'))\n",
    "        row_dict['PolitiFact source'] = (row.find('p', class_=\"statement__edition\").a.text.strip())\n",
    "        pages.append(row_dict)"
   ]
  },
  {
   "cell_type": "code",
   "execution_count": 21,
   "metadata": {},
   "outputs": [
    {
     "data": {
      "text/plain": [
       "(1186, 7)"
      ]
     },
     "execution_count": 21,
     "metadata": {},
     "output_type": "execute_result"
    }
   ],
   "source": [
    "df = pd.DataFrame(pages)\n",
    "df.shape"
   ]
  },
  {
   "cell_type": "code",
   "execution_count": 22,
   "metadata": {},
   "outputs": [],
   "source": [
    "df = df.drop_duplicates()"
   ]
  },
  {
   "cell_type": "code",
   "execution_count": 23,
   "metadata": {},
   "outputs": [
    {
     "data": {
      "text/html": [
       "<div>\n",
       "<style scoped>\n",
       "    .dataframe tbody tr th:only-of-type {\n",
       "        vertical-align: middle;\n",
       "    }\n",
       "\n",
       "    .dataframe tbody tr th {\n",
       "        vertical-align: top;\n",
       "    }\n",
       "\n",
       "    .dataframe thead th {\n",
       "        text-align: right;\n",
       "    }\n",
       "</style>\n",
       "<table border=\"1\" class=\"dataframe\">\n",
       "  <thead>\n",
       "    <tr style=\"text-align: right;\">\n",
       "      <th></th>\n",
       "      <th>Date</th>\n",
       "      <th>In reality</th>\n",
       "      <th>Link</th>\n",
       "      <th>PolitiFact source</th>\n",
       "      <th>Score</th>\n",
       "      <th>Source</th>\n",
       "      <th>Statement</th>\n",
       "    </tr>\n",
       "  </thead>\n",
       "  <tbody>\n",
       "    <tr>\n",
       "      <th>0</th>\n",
       "      <td>on Thursday, July 25th, 2019</td>\n",
       "      <td>Needs context</td>\n",
       "      <td>/punditfact/statements/2019/jul/25/roland-mart...</td>\n",
       "      <td>— PunditFact</td>\n",
       "      <td>Mostly True</td>\n",
       "      <td>Roland Martin</td>\n",
       "      <td>Republicans \"are advancing federal judges who ...</td>\n",
       "    </tr>\n",
       "    <tr>\n",
       "      <th>1</th>\n",
       "      <td>on Tuesday, July 23rd, 2019</td>\n",
       "      <td>A joke misunderstood</td>\n",
       "      <td>/punditfact/statements/2019/jul/23/occupy-demo...</td>\n",
       "      <td>— PunditFact</td>\n",
       "      <td>False</td>\n",
       "      <td>Occupy Democrats</td>\n",
       "      <td>\"Fox ‘News’ just announced that they will not ...</td>\n",
       "    </tr>\n",
       "    <tr>\n",
       "      <th>2</th>\n",
       "      <td>on Monday, July 15th, 2019</td>\n",
       "      <td>It didn't go away</td>\n",
       "      <td>/punditfact/statements/2019/jul/15/rush-limbau...</td>\n",
       "      <td>— PunditFact</td>\n",
       "      <td>False</td>\n",
       "      <td>Rush Limbaugh</td>\n",
       "      <td>\"Somebody in the Obama regime decided to get r...</td>\n",
       "    </tr>\n",
       "    <tr>\n",
       "      <th>3</th>\n",
       "      <td>on Tuesday, July 2nd, 2019</td>\n",
       "      <td>They support a different approach</td>\n",
       "      <td>/punditfact/statements/2019/jul/02/jess-mcinto...</td>\n",
       "      <td>— PunditFact</td>\n",
       "      <td>Mostly False</td>\n",
       "      <td>Jess McIntosh</td>\n",
       "      <td>\"Fifty percent of Republicans are in favor of ...</td>\n",
       "    </tr>\n",
       "    <tr>\n",
       "      <th>4</th>\n",
       "      <td>on Monday, July 1st, 2019</td>\n",
       "      <td>Racial gap has persisted for years</td>\n",
       "      <td>/punditfact/statements/2019/jul/01/ta-nehisi-c...</td>\n",
       "      <td>— PunditFact</td>\n",
       "      <td>True</td>\n",
       "      <td>Ta-Nehisi Coates</td>\n",
       "      <td>\"The typical black family in this country has ...</td>\n",
       "    </tr>\n",
       "  </tbody>\n",
       "</table>\n",
       "</div>"
      ],
      "text/plain": [
       "                           Date                          In reality  \\\n",
       "0  on Thursday, July 25th, 2019                       Needs context   \n",
       "1   on Tuesday, July 23rd, 2019                A joke misunderstood   \n",
       "2    on Monday, July 15th, 2019                   It didn't go away   \n",
       "3    on Tuesday, July 2nd, 2019   They support a different approach   \n",
       "4     on Monday, July 1st, 2019  Racial gap has persisted for years   \n",
       "\n",
       "                                                Link PolitiFact source  \\\n",
       "0  /punditfact/statements/2019/jul/25/roland-mart...      — PunditFact   \n",
       "1  /punditfact/statements/2019/jul/23/occupy-demo...      — PunditFact   \n",
       "2  /punditfact/statements/2019/jul/15/rush-limbau...      — PunditFact   \n",
       "3  /punditfact/statements/2019/jul/02/jess-mcinto...      — PunditFact   \n",
       "4  /punditfact/statements/2019/jul/01/ta-nehisi-c...      — PunditFact   \n",
       "\n",
       "          Score            Source  \\\n",
       "0   Mostly True     Roland Martin   \n",
       "1         False  Occupy Democrats   \n",
       "2         False     Rush Limbaugh   \n",
       "3  Mostly False     Jess McIntosh   \n",
       "4          True  Ta-Nehisi Coates   \n",
       "\n",
       "                                           Statement  \n",
       "0  Republicans \"are advancing federal judges who ...  \n",
       "1  \"Fox ‘News’ just announced that they will not ...  \n",
       "2  \"Somebody in the Obama regime decided to get r...  \n",
       "3  \"Fifty percent of Republicans are in favor of ...  \n",
       "4  \"The typical black family in this country has ...  "
      ]
     },
     "execution_count": 23,
     "metadata": {},
     "output_type": "execute_result"
    }
   ],
   "source": [
    "df.head()"
   ]
  },
  {
   "cell_type": "code",
   "execution_count": 24,
   "metadata": {},
   "outputs": [],
   "source": [
    "df.to_csv(\"punditfacts_data.csv\")"
   ]
  },
  {
   "cell_type": "markdown",
   "metadata": {},
   "source": [
    "# Preparing the data for graphing/analysis"
   ]
  },
  {
   "cell_type": "code",
   "execution_count": 26,
   "metadata": {},
   "outputs": [],
   "source": [
    "df['Year'] = df.Date.str.extract(r'(\\d{4})')"
   ]
  },
  {
   "cell_type": "code",
   "execution_count": 27,
   "metadata": {},
   "outputs": [],
   "source": [
    "vc = df.Year.value_counts()"
   ]
  },
  {
   "cell_type": "code",
   "execution_count": 28,
   "metadata": {},
   "outputs": [],
   "source": [
    "df2 = pd.DataFrame(df.groupby(by='Year').Score.value_counts())"
   ]
  },
  {
   "cell_type": "code",
   "execution_count": 30,
   "metadata": {},
   "outputs": [],
   "source": [
    "df2 = df2.rename(columns={'Score':'Count'})"
   ]
  },
  {
   "cell_type": "code",
   "execution_count": 32,
   "metadata": {},
   "outputs": [],
   "source": [
    "df2 = df2.reset_index()"
   ]
  },
  {
   "cell_type": "code",
   "execution_count": 33,
   "metadata": {},
   "outputs": [],
   "source": [
    "df2 = df2.set_index('Year')"
   ]
  },
  {
   "cell_type": "code",
   "execution_count": 35,
   "metadata": {},
   "outputs": [],
   "source": [
    "percents = df2.Count / vc"
   ]
  },
  {
   "cell_type": "code",
   "execution_count": 36,
   "metadata": {},
   "outputs": [
    {
     "data": {
      "text/plain": [
       "2013    0.263158\n",
       "2013    0.228070\n",
       "2013    0.175439\n",
       "2013    0.157895\n",
       "2013    0.140351\n",
       "2013    0.035088\n",
       "2014    0.216718\n",
       "2014    0.198142\n",
       "2014    0.173375\n",
       "2014    0.173375\n",
       "2014    0.126935\n",
       "2014    0.111455\n",
       "2015    0.193069\n",
       "2015    0.188119\n",
       "2015    0.178218\n",
       "2015    0.168317\n",
       "2015    0.148515\n",
       "2015    0.123762\n",
       "2016    0.272727\n",
       "2016    0.246753\n",
       "2016    0.168831\n",
       "2016    0.142857\n",
       "2016    0.103896\n",
       "2016    0.064935\n",
       "2017    0.730216\n",
       "2017    0.143885\n",
       "2017    0.057554\n",
       "2017    0.032374\n",
       "2017    0.025180\n",
       "2017    0.010791\n",
       "2018    0.513043\n",
       "2018    0.256522\n",
       "2018    0.082609\n",
       "2018    0.069565\n",
       "2018    0.043478\n",
       "2018    0.030435\n",
       "2018    0.004348\n",
       "2019    0.368421\n",
       "2019    0.263158\n",
       "2019    0.157895\n",
       "2019    0.105263\n",
       "2019    0.052632\n",
       "2019    0.052632\n",
       "dtype: float64"
      ]
     },
     "execution_count": 36,
     "metadata": {},
     "output_type": "execute_result"
    }
   ],
   "source": [
    "percents"
   ]
  },
  {
   "cell_type": "code",
   "execution_count": 37,
   "metadata": {},
   "outputs": [],
   "source": [
    "df2['Percent'] = percents"
   ]
  },
  {
   "cell_type": "code",
   "execution_count": 38,
   "metadata": {},
   "outputs": [],
   "source": [
    "df2.Percent = df2.Percent*100"
   ]
  },
  {
   "cell_type": "code",
   "execution_count": 45,
   "metadata": {},
   "outputs": [
    {
     "data": {
      "text/plain": [
       "Year\n",
       "2013     57\n",
       "2014    323\n",
       "2015    202\n",
       "2016     77\n",
       "2017    278\n",
       "2018    230\n",
       "2019     19\n",
       "Name: Count, dtype: int64"
      ]
     },
     "execution_count": 45,
     "metadata": {},
     "output_type": "execute_result"
    }
   ],
   "source": [
    "df2.groupby(by='Year').Count.sum()"
   ]
  },
  {
   "cell_type": "code",
   "execution_count": 43,
   "metadata": {},
   "outputs": [],
   "source": [
    "df2.to_csv(\"punditfacts_score_freq.csv\")"
   ]
  },
  {
   "cell_type": "code",
   "execution_count": null,
   "metadata": {},
   "outputs": [],
   "source": []
  }
 ],
 "metadata": {
  "kernelspec": {
   "display_name": "Python 3",
   "language": "python",
   "name": "python3"
  },
  "language_info": {
   "codemirror_mode": {
    "name": "ipython",
    "version": 3
   },
   "file_extension": ".py",
   "mimetype": "text/x-python",
   "name": "python",
   "nbconvert_exporter": "python",
   "pygments_lexer": "ipython3",
   "version": "3.6.5"
  }
 },
 "nbformat": 4,
 "nbformat_minor": 2
}
