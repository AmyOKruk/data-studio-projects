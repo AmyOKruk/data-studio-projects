{
 "cells": [
  {
   "cell_type": "markdown",
   "metadata": {},
   "source": [
    "# Project Overview: \n",
    "## How are the top 50 companies in the S&P 500 connected through shared board members?"
   ]
  },
  {
   "cell_type": "markdown",
   "metadata": {},
   "source": [
    "For my analysis, I looked at the S&P's 50 largest companies. I can pull data from Reuters based on company stock tickers. I scraped these tickers from https://www.slickcharts.com/sp500 on July 31, 2019, \n",
    "which lists S&P 500 component weights from largest to smallest.\n",
    "\n",
    "Note: Alphabet (AKA Google) has two stock tickers: GOOG and GOOGL (GOOG shares have no voting rights, while GOOGL shares do). Since both classes of shares have the same board members, I eliminated the ticker GOOG from my list of tickers.\n",
    "\n"
   ]
  },
  {
   "cell_type": "code",
   "execution_count": 3,
   "metadata": {},
   "outputs": [],
   "source": [
    "import pandas as pd\n",
    "from bs4 import BeautifulSoupimport requests"
   ]
  },
  {
   "cell_type": "code",
   "execution_count": 64,
   "metadata": {},
   "outputs": [
    {
     "name": "stdout",
     "output_type": "stream",
     "text": [
      "'MSFT': 'Microsoft Corporation',\n",
      "'AAPL': 'Apple Inc.',\n",
      "'AMZN': 'Amazon.com Inc.',\n",
      "'FB': 'Facebook Inc. Class A',\n",
      "'BRK.B': 'Berkshire Hathaway Inc. Class B',\n",
      "'JPM': 'JPMorgan Chase & Co.',\n",
      "'GOOG': 'Alphabet Inc. Class C',\n",
      "'GOOGL': 'Alphabet Inc. Class A',\n",
      "'JNJ': 'Johnson & Johnson',\n",
      "'XOM': 'Exxon Mobil Corporation',\n",
      "'V': 'Visa Inc. Class A',\n",
      "'PG': 'Procter & Gamble Company',\n",
      "'BAC': 'Bank of America Corp',\n",
      "'DIS': 'Walt Disney Company',\n",
      "'T': 'AT&T Inc.',\n",
      "'MA': 'Mastercard Incorporated Class A',\n",
      "'CSCO': 'Cisco Systems Inc.',\n",
      "'UNH': 'UnitedHealth Group Incorporated',\n",
      "'HD': 'Home Depot Inc.',\n",
      "'CVX': 'Chevron Corporation',\n",
      "'VZ': 'Verizon Communications Inc.',\n",
      "'INTC': 'Intel Corporation',\n",
      "'PFE': 'Pfizer Inc.',\n",
      "'MRK': 'Merck & Co. Inc.',\n",
      "'KO': 'Coca-Cola Company',\n",
      "'WFC': 'Wells Fargo & Company',\n",
      "'CMCSA': 'Comcast Corporation Class A',\n",
      "'PEP': 'PepsiCo Inc.',\n",
      "'BA': 'Boeing Company',\n",
      "'C': 'Citigroup Inc.',\n",
      "'MCD': 'McDonald's Corporation',\n",
      "'WMT': 'Walmart Inc.',\n",
      "'ABT': 'Abbott Laboratories',\n",
      "'ADBE': 'Adobe Inc.',\n",
      "'NFLX': 'Netflix Inc.',\n",
      "'MDT': 'Medtronic Plc',\n",
      "'ORCL': 'Oracle Corporation',\n",
      "'IBM': 'International Business Machines Corporation',\n",
      "'PM': 'Philip Morris International Inc.',\n",
      "'PYPL': 'PayPal Holdings Inc',\n",
      "'UNP': 'Union Pacific Corporation',\n",
      "'HON': 'Honeywell International Inc.',\n",
      "'ACN': 'Accenture Plc Class A',\n",
      "'COST': 'Costco Wholesale Corporation',\n",
      "'CRM': 'salesforce.com inc.',\n",
      "'TXN': 'Texas Instruments Incorporated',\n",
      "'AVGO': 'Broadcom Inc.',\n",
      "'SBUX': 'Starbucks Corporation',\n",
      "'AMGN': 'Amgen Inc.',\n",
      "'TMO': 'Thermo Fisher Scientific Inc.',\n",
      "'UTX': 'United Technologies Corporation',\n"
     ]
    }
   ],
   "source": [
    "tickers = []\n",
    "names = []\n",
    "\n",
    "URL = \"https://www.slickcharts.com/sp500\" \n",
    "response = requests.get(URL) \n",
    "soup = BeautifulSoup(response.content) \n",
    "\n",
    "table = soup.find('tbody')\n",
    "\n",
    "count = 0\n",
    "rows = table.find_all('tr')\n",
    "for row in rows:\n",
    "    count = count + 1\n",
    "    if count == 52:\n",
    "        break \n",
    "    else:\n",
    "        ticker = (f\"{row.find_all('td')[2].text}\")\n",
    "        name = (f\"{row.find_all('td')[1].text}\")\n",
    "        names.append(name)\n",
    "        tickers.append(ticker) "
   ]
  },
  {
   "cell_type": "code",
   "execution_count": 33,
   "metadata": {},
   "outputs": [
    {
     "data": {
      "text/plain": [
       "51"
      ]
     },
     "execution_count": 33,
     "metadata": {},
     "output_type": "execute_result"
    }
   ],
   "source": [
    "len(tickers)"
   ]
  },
  {
   "cell_type": "code",
   "execution_count": 58,
   "metadata": {},
   "outputs": [
    {
     "data": {
      "text/plain": [
       "['Microsoft Corporation',\n",
       " 'Apple Inc.',\n",
       " 'Amazon.com Inc.',\n",
       " 'Facebook Inc. Class A',\n",
       " 'Berkshire Hathaway Inc. Class B',\n",
       " 'JPMorgan Chase & Co.',\n",
       " 'Alphabet Inc. Class C',\n",
       " 'Alphabet Inc. Class A',\n",
       " 'Johnson & Johnson',\n",
       " 'Exxon Mobil Corporation',\n",
       " 'Visa Inc. Class A',\n",
       " 'Procter & Gamble Company',\n",
       " 'Bank of America Corp',\n",
       " 'Walt Disney Company',\n",
       " 'AT&T Inc.',\n",
       " 'Mastercard Incorporated Class A',\n",
       " 'Cisco Systems Inc.',\n",
       " 'UnitedHealth Group Incorporated',\n",
       " 'Home Depot Inc.',\n",
       " 'Chevron Corporation',\n",
       " 'Verizon Communications Inc.',\n",
       " 'Intel Corporation',\n",
       " 'Pfizer Inc.',\n",
       " 'Merck & Co. Inc.',\n",
       " 'Coca-Cola Company',\n",
       " 'Wells Fargo & Company',\n",
       " 'Comcast Corporation Class A',\n",
       " 'PepsiCo Inc.',\n",
       " 'Boeing Company',\n",
       " 'Citigroup Inc.',\n",
       " \"McDonald's Corporation\",\n",
       " 'Walmart Inc.',\n",
       " 'Abbott Laboratories',\n",
       " 'Adobe Inc.',\n",
       " 'Netflix Inc.',\n",
       " 'Medtronic Plc',\n",
       " 'Oracle Corporation',\n",
       " 'International Business Machines Corporation',\n",
       " 'Philip Morris International Inc.',\n",
       " 'PayPal Holdings Inc',\n",
       " 'Union Pacific Corporation',\n",
       " 'Honeywell International Inc.',\n",
       " 'Accenture Plc Class A',\n",
       " 'Costco Wholesale Corporation',\n",
       " 'salesforce.com inc.',\n",
       " 'Texas Instruments Incorporated',\n",
       " 'Broadcom Inc.',\n",
       " 'Starbucks Corporation',\n",
       " 'Amgen Inc.',\n",
       " 'Thermo Fisher Scientific Inc.',\n",
       " 'United Technologies Corporation']"
      ]
     },
     "execution_count": 58,
     "metadata": {},
     "output_type": "execute_result"
    }
   ],
   "source": [
    "names\n"
   ]
  },
  {
   "cell_type": "code",
   "execution_count": 42,
   "metadata": {},
   "outputs": [],
   "source": [
    "tickers.remove('GOOG')"
   ]
  },
  {
   "cell_type": "code",
   "execution_count": 41,
   "metadata": {},
   "outputs": [
    {
     "data": {
      "text/plain": [
       "50"
      ]
     },
     "execution_count": 41,
     "metadata": {},
     "output_type": "execute_result"
    }
   ],
   "source": [
    "len(tickers)"
   ]
  },
  {
   "cell_type": "markdown",
   "metadata": {},
   "source": [
    "Now, it's time to scrape Reuters. Reuters.com lists company officers associated with various stock tickers."
   ]
  },
  {
   "cell_type": "code",
   "execution_count": 43,
   "metadata": {},
   "outputs": [],
   "source": [
    "companies = []\n",
    "for ticker in tickers:\n",
    "    try:\n",
    "        URL = f\"https://www.reuters.com/finance/stocks/company-officers/{ticker}\" \n",
    "        response = requests.get(URL) \n",
    "        soup = BeautifulSoup(response.content)\n",
    "        rows = soup.find('tbody', class_=\"dataSmall\").find_all('tr')\n",
    "        for row in rows:\n",
    "            people = {}\n",
    "            try:\n",
    "                people['Name'] = (row.find_all('td')[0].text.strip())\n",
    "                people['Age'] = (row.find_all('td')[1].text.strip())\n",
    "                people['Since'] = (row.find_all('td')[2].text.strip())\n",
    "                people['Position'] = (row.find_all('td')[3].text.strip())\n",
    "                people['Company'] = ticker\n",
    "            except:\n",
    "                pass\n",
    "\n",
    "            companies.append(people)\n",
    "\n",
    "    except:\n",
    "        print(URL, \"is broken.\")\n"
   ]
  },
  {
   "cell_type": "code",
   "execution_count": 44,
   "metadata": {},
   "outputs": [],
   "source": [
    "df = pd.DataFrame(companies)"
   ]
  },
  {
   "cell_type": "code",
   "execution_count": 45,
   "metadata": {},
   "outputs": [],
   "source": [
    "df = df.dropna()"
   ]
  },
  {
   "cell_type": "code",
   "execution_count": 46,
   "metadata": {},
   "outputs": [],
   "source": [
    "df.to_csv(\"Reuters_scrape_master.csv\")"
   ]
  },
  {
   "cell_type": "markdown",
   "metadata": {},
   "source": [
    "I also want to create a dataframe that simply lists each company and its associated officers."
   ]
  },
  {
   "cell_type": "code",
   "execution_count": 47,
   "metadata": {},
   "outputs": [],
   "source": [
    "master = []\n",
    "for ticker in tickers:\n",
    "    try:\n",
    "        URL = f\"https://www.reuters.com/finance/stocks/company-officers/{ticker}\" \n",
    "        response = requests.get(URL) \n",
    "        soup = BeautifulSoup(response.content)\n",
    "        rows = soup.find('tbody', class_=\"dataSmall\").find_all('tr')\n",
    "        companies = {}\n",
    "        count = 0\n",
    "        for row in rows:\n",
    "            try:\n",
    "                count = count + 1\n",
    "                person = row.find_all('td')[0].text.strip()\n",
    "                person = person.replace(u'\\xa0', u' ')\n",
    "                companies[count] = person\n",
    "            except:\n",
    "                pass\n",
    "        master.append(companies)\n",
    "        count = 0 \n",
    "    except:\n",
    "        print(URL, \"is broken.\")\n",
    "        "
   ]
  },
  {
   "cell_type": "code",
   "execution_count": 48,
   "metadata": {},
   "outputs": [],
   "source": [
    "df2 = pd.DataFrame(master)"
   ]
  },
  {
   "cell_type": "code",
   "execution_count": 49,
   "metadata": {},
   "outputs": [],
   "source": [
    "df2.index = tickers"
   ]
  },
  {
   "cell_type": "code",
   "execution_count": 52,
   "metadata": {},
   "outputs": [
    {
     "data": {
      "text/html": [
       "<div>\n",
       "<style scoped>\n",
       "    .dataframe tbody tr th:only-of-type {\n",
       "        vertical-align: middle;\n",
       "    }\n",
       "\n",
       "    .dataframe tbody tr th {\n",
       "        vertical-align: top;\n",
       "    }\n",
       "\n",
       "    .dataframe thead th {\n",
       "        text-align: right;\n",
       "    }\n",
       "</style>\n",
       "<table border=\"1\" class=\"dataframe\">\n",
       "  <thead>\n",
       "    <tr style=\"text-align: right;\">\n",
       "      <th></th>\n",
       "      <th>2</th>\n",
       "      <th>3</th>\n",
       "      <th>4</th>\n",
       "      <th>5</th>\n",
       "      <th>6</th>\n",
       "      <th>7</th>\n",
       "      <th>8</th>\n",
       "      <th>9</th>\n",
       "      <th>10</th>\n",
       "      <th>11</th>\n",
       "      <th>...</th>\n",
       "      <th>27</th>\n",
       "      <th>28</th>\n",
       "      <th>29</th>\n",
       "      <th>30</th>\n",
       "      <th>31</th>\n",
       "      <th>32</th>\n",
       "      <th>33</th>\n",
       "      <th>34</th>\n",
       "      <th>35</th>\n",
       "      <th>36</th>\n",
       "    </tr>\n",
       "  </thead>\n",
       "  <tbody>\n",
       "    <tr>\n",
       "      <th>MSFT</th>\n",
       "      <td>John Thompson</td>\n",
       "      <td>Bradford Smith</td>\n",
       "      <td>Satya Nadella</td>\n",
       "      <td>William Gates</td>\n",
       "      <td>Amy Hood</td>\n",
       "      <td>Kevin Scott</td>\n",
       "      <td>Christopher Capossela</td>\n",
       "      <td>Kathleen Hogan</td>\n",
       "      <td>Jean-Philippe Courtois</td>\n",
       "      <td>Margaret Johnson</td>\n",
       "      <td>...</td>\n",
       "      <td>NaN</td>\n",
       "      <td>NaN</td>\n",
       "      <td>NaN</td>\n",
       "      <td>NaN</td>\n",
       "      <td>NaN</td>\n",
       "      <td>NaN</td>\n",
       "      <td>NaN</td>\n",
       "      <td>NaN</td>\n",
       "      <td>NaN</td>\n",
       "      <td>NaN</td>\n",
       "    </tr>\n",
       "    <tr>\n",
       "      <th>AAPL</th>\n",
       "      <td>Art Levinson</td>\n",
       "      <td>Timothy Cook</td>\n",
       "      <td>Luca Maestri</td>\n",
       "      <td>Jeffrey Williams</td>\n",
       "      <td>Katherine Adams</td>\n",
       "      <td>Philip Schiller</td>\n",
       "      <td>Eddy Cue</td>\n",
       "      <td>Craig Federighi</td>\n",
       "      <td>John Giannandrea</td>\n",
       "      <td>Deirdre O'Brien</td>\n",
       "      <td>...</td>\n",
       "      <td>NaN</td>\n",
       "      <td>NaN</td>\n",
       "      <td>NaN</td>\n",
       "      <td>NaN</td>\n",
       "      <td>NaN</td>\n",
       "      <td>NaN</td>\n",
       "      <td>NaN</td>\n",
       "      <td>NaN</td>\n",
       "      <td>NaN</td>\n",
       "      <td>NaN</td>\n",
       "    </tr>\n",
       "    <tr>\n",
       "      <th>AMZN</th>\n",
       "      <td>Jeffrey Bezos</td>\n",
       "      <td>Brian Olsavsky</td>\n",
       "      <td>Andrew Jassy</td>\n",
       "      <td>Jeffrey Wilke</td>\n",
       "      <td>David Zapolsky</td>\n",
       "      <td>Jeffrey Blackburn</td>\n",
       "      <td>Shelley Reynolds</td>\n",
       "      <td>Rosalind Brewer</td>\n",
       "      <td>Jamie Gorelick</td>\n",
       "      <td>Daniel Huttenlocher</td>\n",
       "      <td>...</td>\n",
       "      <td>NaN</td>\n",
       "      <td>NaN</td>\n",
       "      <td>NaN</td>\n",
       "      <td>NaN</td>\n",
       "      <td>NaN</td>\n",
       "      <td>NaN</td>\n",
       "      <td>NaN</td>\n",
       "      <td>NaN</td>\n",
       "      <td>NaN</td>\n",
       "      <td>NaN</td>\n",
       "    </tr>\n",
       "    <tr>\n",
       "      <th>FB</th>\n",
       "      <td>Mark Zuckerberg</td>\n",
       "      <td>David Wehner</td>\n",
       "      <td>Sheryl Sandberg</td>\n",
       "      <td>Michael Schroepfer</td>\n",
       "      <td>Colin Stretch</td>\n",
       "      <td>David Fischer</td>\n",
       "      <td>Susan Desmond-Hellmann</td>\n",
       "      <td>Marc Andreessen</td>\n",
       "      <td>Kenneth Chenault</td>\n",
       "      <td>Peter Thiel</td>\n",
       "      <td>...</td>\n",
       "      <td>NaN</td>\n",
       "      <td>NaN</td>\n",
       "      <td>NaN</td>\n",
       "      <td>NaN</td>\n",
       "      <td>NaN</td>\n",
       "      <td>NaN</td>\n",
       "      <td>NaN</td>\n",
       "      <td>NaN</td>\n",
       "      <td>NaN</td>\n",
       "      <td>NaN</td>\n",
       "    </tr>\n",
       "    <tr>\n",
       "      <th>BRK.B</th>\n",
       "      <td>Warren Buffett</td>\n",
       "      <td>Charles Munger</td>\n",
       "      <td>Marc Hamburg</td>\n",
       "      <td>Gregory Abel</td>\n",
       "      <td>Ajit Jain</td>\n",
       "      <td>Howard Buffett</td>\n",
       "      <td>Ronald Olson</td>\n",
       "      <td>Stephen Burke</td>\n",
       "      <td>Susan Decker</td>\n",
       "      <td>William Gates</td>\n",
       "      <td>...</td>\n",
       "      <td>NaN</td>\n",
       "      <td>NaN</td>\n",
       "      <td>NaN</td>\n",
       "      <td>NaN</td>\n",
       "      <td>NaN</td>\n",
       "      <td>NaN</td>\n",
       "      <td>NaN</td>\n",
       "      <td>NaN</td>\n",
       "      <td>NaN</td>\n",
       "      <td>NaN</td>\n",
       "    </tr>\n",
       "  </tbody>\n",
       "</table>\n",
       "<p>5 rows × 35 columns</p>\n",
       "</div>"
      ],
      "text/plain": [
       "                    2               3                4                   5   \\\n",
       "MSFT     John Thompson  Bradford Smith    Satya Nadella       William Gates   \n",
       "AAPL      Art Levinson    Timothy Cook     Luca Maestri    Jeffrey Williams   \n",
       "AMZN     Jeffrey Bezos  Brian Olsavsky     Andrew Jassy       Jeffrey Wilke   \n",
       "FB     Mark Zuckerberg    David Wehner  Sheryl Sandberg  Michael Schroepfer   \n",
       "BRK.B   Warren Buffett  Charles Munger     Marc Hamburg        Gregory Abel   \n",
       "\n",
       "                    6                  7                       8   \\\n",
       "MSFT          Amy Hood        Kevin Scott   Christopher Capossela   \n",
       "AAPL   Katherine Adams    Philip Schiller                Eddy Cue   \n",
       "AMZN    David Zapolsky  Jeffrey Blackburn        Shelley Reynolds   \n",
       "FB       Colin Stretch      David Fischer  Susan Desmond-Hellmann   \n",
       "BRK.B        Ajit Jain     Howard Buffett            Ronald Olson   \n",
       "\n",
       "                    9                       10                   11  ...   27  \\\n",
       "MSFT    Kathleen Hogan  Jean-Philippe Courtois     Margaret Johnson  ...  NaN   \n",
       "AAPL   Craig Federighi        John Giannandrea      Deirdre O'Brien  ...  NaN   \n",
       "AMZN   Rosalind Brewer          Jamie Gorelick  Daniel Huttenlocher  ...  NaN   \n",
       "FB     Marc Andreessen        Kenneth Chenault          Peter Thiel  ...  NaN   \n",
       "BRK.B    Stephen Burke            Susan Decker        William Gates  ...  NaN   \n",
       "\n",
       "        28   29   30   31   32   33   34   35   36  \n",
       "MSFT   NaN  NaN  NaN  NaN  NaN  NaN  NaN  NaN  NaN  \n",
       "AAPL   NaN  NaN  NaN  NaN  NaN  NaN  NaN  NaN  NaN  \n",
       "AMZN   NaN  NaN  NaN  NaN  NaN  NaN  NaN  NaN  NaN  \n",
       "FB     NaN  NaN  NaN  NaN  NaN  NaN  NaN  NaN  NaN  \n",
       "BRK.B  NaN  NaN  NaN  NaN  NaN  NaN  NaN  NaN  NaN  \n",
       "\n",
       "[5 rows x 35 columns]"
      ]
     },
     "execution_count": 52,
     "metadata": {},
     "output_type": "execute_result"
    }
   ],
   "source": [
    "df2.head()"
   ]
  },
  {
   "cell_type": "code",
   "execution_count": 53,
   "metadata": {},
   "outputs": [],
   "source": [
    "df2.to_csv(\"Reuters_scrape_people.csv\")"
   ]
  },
  {
   "cell_type": "markdown",
   "metadata": {},
   "source": [
    "Scraping S&P 500 stocks by GICS Sector for colour-coding later"
   ]
  },
  {
   "cell_type": "code",
   "execution_count": 78,
   "metadata": {},
   "outputs": [],
   "source": [
    "sectors = []\n",
    "URL = f\"https://en.wikipedia.org/wiki/List_of_S%26P_500_companies\" \n",
    "response = requests.get(URL) \n",
    "soup = BeautifulSoup(response.content)\n",
    "rows = soup.find('tbody').find_all('tr')\n",
    "for row in rows:\n",
    "    try:\n",
    "        data = {}\n",
    "        ticker=(row.find_all('td')[0].text.strip())\n",
    "        data['sector']=(row.find_all('td')[3].text.strip())\n",
    "        sectors.append(data)\n",
    "    except:\n",
    "        continue\n"
   ]
  },
  {
   "cell_type": "code",
   "execution_count": 119,
   "metadata": {},
   "outputs": [
    {
     "data": {
      "text/plain": [
       "[{'ABT': 'Health Care'},\n",
       " {'ACN': 'Information Technology'},\n",
       " {'ADBE': 'Information Technology'},\n",
       " {'GOOGL': 'Communication Services'},\n",
       " {'GOOG': 'Communication Services'},\n",
       " {'AMZN': 'Consumer Discretionary'},\n",
       " {'AMGN': 'Health Care'},\n",
       " {'AAPL': 'Information Technology'},\n",
       " {'T': 'Communication Services'},\n",
       " {'BAC': 'Financials'},\n",
       " {'BRK.B': 'Financials'},\n",
       " {'BA': 'Industrials'},\n",
       " {'AVGO': 'Information Technology'},\n",
       " {'CVX': 'Energy'},\n",
       " {'CSCO': 'Information Technology'},\n",
       " {'C': 'Financials'},\n",
       " {'KO': 'Consumer Staples'},\n",
       " {'CMCSA': 'Communication Services'},\n",
       " {'COST': 'Consumer Staples'},\n",
       " {'XOM': 'Energy'},\n",
       " {'FB': 'Communication Services'},\n",
       " {'HD': 'Consumer Discretionary'},\n",
       " {'HON': 'Industrials'},\n",
       " {'INTC': 'Information Technology'},\n",
       " {'IBM': 'Information Technology'},\n",
       " {'JNJ': 'Health Care'},\n",
       " {'JPM': 'Financials'},\n",
       " {'MA': 'Information Technology'},\n",
       " {'MCD': 'Consumer Discretionary'},\n",
       " {'MDT': 'Health Care'},\n",
       " {'MRK': 'Health Care'},\n",
       " {'MSFT': 'Information Technology'},\n",
       " {'NFLX': 'Communication Services'},\n",
       " {'ORCL': 'Information Technology'},\n",
       " {'PYPL': 'Information Technology'},\n",
       " {'PEP': 'Consumer Staples'},\n",
       " {'PFE': 'Health Care'},\n",
       " {'PM': 'Consumer Staples'},\n",
       " {'PG': 'Consumer Staples'},\n",
       " {'CRM': 'Information Technology'},\n",
       " {'SBUX': 'Consumer Discretionary'},\n",
       " {'TXN': 'Information Technology'},\n",
       " {'TMO': 'Health Care'},\n",
       " {'UNP': 'Industrials'},\n",
       " {'UNH': 'Health Care'},\n",
       " {'UTX': 'Industrials'},\n",
       " {'VZ': 'Communication Services'},\n",
       " {'V': 'Information Technology'},\n",
       " {'WMT': 'Consumer Staples'},\n",
       " {'DIS': 'Communication Services'},\n",
       " {'WFC': 'Financials'}]"
      ]
     },
     "execution_count": 119,
     "metadata": {},
     "output_type": "execute_result"
    }
   ],
   "source": [
    "sector_dict = []\n",
    "for companies in sectors:\n",
    "    for key, value in companies.items():\n",
    "        for ticker in tickers:\n",
    "            if key == ticker:\n",
    "                sector_dict.append(companies)\n",
    "    \n",
    "sector_dict\n",
    "        "
   ]
  },
  {
   "cell_type": "code",
   "execution_count": 128,
   "metadata": {},
   "outputs": [],
   "source": [
    "result = {}\n",
    "for d in sector_dict:\n",
    "    result.update(d)"
   ]
  },
  {
   "cell_type": "code",
   "execution_count": 129,
   "metadata": {},
   "outputs": [
    {
     "data": {
      "text/plain": [
       "{'ABT': 'Health Care',\n",
       " 'ACN': 'Information Technology',\n",
       " 'ADBE': 'Information Technology',\n",
       " 'GOOGL': 'Communication Services',\n",
       " 'GOOG': 'Communication Services',\n",
       " 'AMZN': 'Consumer Discretionary',\n",
       " 'AMGN': 'Health Care',\n",
       " 'AAPL': 'Information Technology',\n",
       " 'T': 'Communication Services',\n",
       " 'BAC': 'Financials',\n",
       " 'BRK.B': 'Financials',\n",
       " 'BA': 'Industrials',\n",
       " 'AVGO': 'Information Technology',\n",
       " 'CVX': 'Energy',\n",
       " 'CSCO': 'Information Technology',\n",
       " 'C': 'Financials',\n",
       " 'KO': 'Consumer Staples',\n",
       " 'CMCSA': 'Communication Services',\n",
       " 'COST': 'Consumer Staples',\n",
       " 'XOM': 'Energy',\n",
       " 'FB': 'Communication Services',\n",
       " 'HD': 'Consumer Discretionary',\n",
       " 'HON': 'Industrials',\n",
       " 'INTC': 'Information Technology',\n",
       " 'IBM': 'Information Technology',\n",
       " 'JNJ': 'Health Care',\n",
       " 'JPM': 'Financials',\n",
       " 'MA': 'Information Technology',\n",
       " 'MCD': 'Consumer Discretionary',\n",
       " 'MDT': 'Health Care',\n",
       " 'MRK': 'Health Care',\n",
       " 'MSFT': 'Information Technology',\n",
       " 'NFLX': 'Communication Services',\n",
       " 'ORCL': 'Information Technology',\n",
       " 'PYPL': 'Information Technology',\n",
       " 'PEP': 'Consumer Staples',\n",
       " 'PFE': 'Health Care',\n",
       " 'PM': 'Consumer Staples',\n",
       " 'PG': 'Consumer Staples',\n",
       " 'CRM': 'Information Technology',\n",
       " 'SBUX': 'Consumer Discretionary',\n",
       " 'TXN': 'Information Technology',\n",
       " 'TMO': 'Health Care',\n",
       " 'UNP': 'Industrials',\n",
       " 'UNH': 'Health Care',\n",
       " 'UTX': 'Industrials',\n",
       " 'VZ': 'Communication Services',\n",
       " 'V': 'Information Technology',\n",
       " 'WMT': 'Consumer Staples',\n",
       " 'DIS': 'Communication Services',\n",
       " 'WFC': 'Financials'}"
      ]
     },
     "execution_count": 129,
     "metadata": {},
     "output_type": "execute_result"
    }
   ],
   "source": [
    "result"
   ]
  },
  {
   "cell_type": "code",
   "execution_count": 215,
   "metadata": {},
   "outputs": [],
   "source": [
    "df3 = df2"
   ]
  },
  {
   "cell_type": "code",
   "execution_count": 216,
   "metadata": {},
   "outputs": [],
   "source": [
    "df3['sector'] = df3.index"
   ]
  },
  {
   "cell_type": "code",
   "execution_count": 217,
   "metadata": {},
   "outputs": [],
   "source": [
    "df3 = df3['sector'].reset_index()"
   ]
  },
  {
   "cell_type": "code",
   "execution_count": 218,
   "metadata": {},
   "outputs": [],
   "source": [
    "df3 = df3.replace({\"sector\": result})"
   ]
  },
  {
   "cell_type": "code",
   "execution_count": 219,
   "metadata": {},
   "outputs": [],
   "source": [
    "df3 = df3.rename(columns={'index':'ticker'})"
   ]
  },
  {
   "cell_type": "code",
   "execution_count": 220,
   "metadata": {},
   "outputs": [
    {
     "data": {
      "text/plain": [
       "Information Technology    14\n",
       "Health Care                8\n",
       "Communication Services     7\n",
       "Consumer Staples           6\n",
       "Financials                 5\n",
       "Industrials                4\n",
       "Consumer Discretionary     4\n",
       "Energy                     2\n",
       "Name: sector, dtype: int64"
      ]
     },
     "execution_count": 220,
     "metadata": {},
     "output_type": "execute_result"
    }
   ],
   "source": [
    "df3['sector'].value_counts()"
   ]
  },
  {
   "cell_type": "code",
   "execution_count": 221,
   "metadata": {},
   "outputs": [],
   "source": [
    "di = {\n",
    "'Information Technology':1,\n",
    "'Health Care':2,\n",
    "'Communication Services':3,\n",
    "'Consumer Staples':4,\n",
    "'Financials':5,\n",
    "'Industrials':6,\n",
    "'Consumer Discretionary':7,\n",
    "'Energy':8\n",
    "}"
   ]
  },
  {
   "cell_type": "code",
   "execution_count": 222,
   "metadata": {},
   "outputs": [],
   "source": [
    "df3 = df3.replace({\"sector\": di})"
   ]
  },
  {
   "cell_type": "code",
   "execution_count": 223,
   "metadata": {},
   "outputs": [
    {
     "data": {
      "text/html": [
       "<div>\n",
       "<style scoped>\n",
       "    .dataframe tbody tr th:only-of-type {\n",
       "        vertical-align: middle;\n",
       "    }\n",
       "\n",
       "    .dataframe tbody tr th {\n",
       "        vertical-align: top;\n",
       "    }\n",
       "\n",
       "    .dataframe thead th {\n",
       "        text-align: right;\n",
       "    }\n",
       "</style>\n",
       "<table border=\"1\" class=\"dataframe\">\n",
       "  <thead>\n",
       "    <tr style=\"text-align: right;\">\n",
       "      <th></th>\n",
       "      <th>ticker</th>\n",
       "      <th>sector</th>\n",
       "    </tr>\n",
       "  </thead>\n",
       "  <tbody>\n",
       "    <tr>\n",
       "      <th>0</th>\n",
       "      <td>MSFT</td>\n",
       "      <td>1</td>\n",
       "    </tr>\n",
       "    <tr>\n",
       "      <th>1</th>\n",
       "      <td>AAPL</td>\n",
       "      <td>1</td>\n",
       "    </tr>\n",
       "    <tr>\n",
       "      <th>2</th>\n",
       "      <td>AMZN</td>\n",
       "      <td>7</td>\n",
       "    </tr>\n",
       "    <tr>\n",
       "      <th>3</th>\n",
       "      <td>FB</td>\n",
       "      <td>3</td>\n",
       "    </tr>\n",
       "    <tr>\n",
       "      <th>4</th>\n",
       "      <td>BRK.B</td>\n",
       "      <td>5</td>\n",
       "    </tr>\n",
       "  </tbody>\n",
       "</table>\n",
       "</div>"
      ],
      "text/plain": [
       "  ticker  sector\n",
       "0   MSFT       1\n",
       "1   AAPL       1\n",
       "2   AMZN       7\n",
       "3     FB       3\n",
       "4  BRK.B       5"
      ]
     },
     "execution_count": 223,
     "metadata": {},
     "output_type": "execute_result"
    }
   ],
   "source": [
    "df3.head()"
   ]
  },
  {
   "cell_type": "code",
   "execution_count": 240,
   "metadata": {},
   "outputs": [],
   "source": [
    "df3 = df3[(df3.ticker != 'PM') & (df3.ticker !='UNP') & (df3.ticker != 'TXN')]\n"
   ]
  },
  {
   "cell_type": "code",
   "execution_count": 242,
   "metadata": {},
   "outputs": [],
   "source": [
    "df3.to_csv(\"stock_sectors.csv\", index=False)"
   ]
  },
  {
   "cell_type": "code",
   "execution_count": null,
   "metadata": {},
   "outputs": [],
   "source": []
  }
 ],
 "metadata": {
  "kernelspec": {
   "display_name": "Python 3",
   "language": "python",
   "name": "python3"
  },
  "language_info": {
   "codemirror_mode": {
    "name": "ipython",
    "version": 3
   },
   "file_extension": ".py",
   "mimetype": "text/x-python",
   "name": "python",
   "nbconvert_exporter": "python",
   "pygments_lexer": "ipython3",
   "version": "3.6.5"
  }
 },
 "nbformat": 4,
 "nbformat_minor": 2
}
